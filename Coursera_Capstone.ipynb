{
 "cells": [
  {
   "cell_type": "markdown",
   "metadata": {},
   "source": [
    "# This notebook mainly used for Coursera CapSTONE"
   ]
  },
  {
   "cell_type": "code",
   "execution_count": 2,
   "metadata": {},
   "outputs": [],
   "source": [
    "import pandas as pd"
   ]
  },
  {
   "cell_type": "code",
   "execution_count": 5,
   "metadata": {},
   "outputs": [
    {
     "name": "stdout",
     "output_type": "stream",
     "text": [
      "Solving environment: done\n",
      "\n",
      "\n",
      "==> WARNING: A newer version of conda exists. <==\n",
      "  current version: 4.5.11\n",
      "  latest version: 4.6.8\n",
      "\n",
      "Please update conda by running\n",
      "\n",
      "    $ conda update -n base conda\n",
      "\n",
      "\n",
      "\n",
      "## Package Plan ##\n",
      "\n",
      "  environment location: /srv/conda\n",
      "\n",
      "  added / updated specs: \n",
      "    - numpy\n",
      "\n",
      "\n",
      "The following packages will be downloaded:\n",
      "\n",
      "    package                    |            build\n",
      "    ---------------------------|-----------------\n",
      "    libblas-3.8.0              |4_h6e990d7_netlib         181 KB  conda-forge\n",
      "    certifi-2019.3.9           |           py36_0         149 KB  conda-forge\n",
      "    libcblas-3.8.0             |4_h6e990d7_netlib          47 KB  conda-forge\n",
      "    libgfortran-ng-7.2.0       |       hdf63c60_3         1.2 MB  conda-forge\n",
      "    numpy-1.16.2               |   py36h8b7e671_1         4.3 MB  conda-forge\n",
      "    openssl-1.0.2r             |       h14c3975_0         3.1 MB  conda-forge\n",
      "    liblapack-3.8.0            |4_h6e990d7_netlib         2.8 MB  conda-forge\n",
      "    libgcc-ng-7.3.0            |       hdf63c60_0         6.1 MB  conda-forge\n",
      "    ca-certificates-2019.3.9   |       hecc5488_0         146 KB  conda-forge\n",
      "    ------------------------------------------------------------\n",
      "                                           Total:        18.1 MB\n",
      "\n",
      "The following NEW packages will be INSTALLED:\n",
      "\n",
      "    libblas:         3.8.0-4_h6e990d7_netlib             conda-forge\n",
      "    libcblas:        3.8.0-4_h6e990d7_netlib             conda-forge\n",
      "    libgfortran-ng:  7.2.0-hdf63c60_3                    conda-forge\n",
      "    liblapack:       3.8.0-4_h6e990d7_netlib             conda-forge\n",
      "\n",
      "The following packages will be UPDATED:\n",
      "\n",
      "    ca-certificates: 2018.11.29-ha4d7672_0               conda-forge --> 2019.3.9-hecc5488_0   conda-forge\n",
      "    certifi:         2018.11.29-py36_1000                conda-forge --> 2019.3.9-py36_0       conda-forge\n",
      "    libgcc-ng:       7.2.0-hdf63c60_3                    conda-forge --> 7.3.0-hdf63c60_0      conda-forge\n",
      "    numpy:           1.15.2-py36_blas_openblashd3ea46f_1 conda-forge [blas_openblas] --> 1.16.2-py36h8b7e671_1 conda-forge\n",
      "    openssl:         1.0.2p-h470a237_1                   conda-forge --> 1.0.2r-h14c3975_0     conda-forge\n",
      "\n",
      "\n",
      "Downloading and Extracting Packages\n",
      "libblas-3.8.0        | 181 KB    | ##################################### | 100% \n",
      "certifi-2019.3.9     | 149 KB    | ##################################### | 100% \n",
      "libcblas-3.8.0       | 47 KB     | ##################################### | 100% \n",
      "libgfortran-ng-7.2.0 | 1.2 MB    | ##################################### | 100% \n",
      "numpy-1.16.2         | 4.3 MB    | ##################################### | 100% \n",
      "openssl-1.0.2r       | 3.1 MB    | ##################################### | 100% \n",
      "liblapack-3.8.0      | 2.8 MB    | ##################################### | 100% \n",
      "libgcc-ng-7.3.0      | 6.1 MB    | ##################################### | 100% \n",
      "ca-certificates-2019 | 146 KB    | ##################################### | 100% \n",
      "Preparing transaction: done\n",
      "Verifying transaction: done\n",
      "Executing transaction: done\n"
     ]
    }
   ],
   "source": [
    "# Install a conda package in the current Jupyter kernel\n",
    "import sys\n",
    "!conda install --yes --prefix {sys.prefix} numpy"
   ]
  },
  {
   "cell_type": "code",
   "execution_count": 8,
   "metadata": {},
   "outputs": [],
   "source": [
    "import numpy as np"
   ]
  },
  {
   "cell_type": "code",
   "execution_count": null,
   "metadata": {},
   "outputs": [],
   "source": []
  },
  {
   "cell_type": "code",
   "execution_count": null,
   "metadata": {},
   "outputs": [],
   "source": []
  }
 ],
 "metadata": {
  "kernelspec": {
   "display_name": "Python 3",
   "language": "python",
   "name": "python3"
  },
  "language_info": {
   "codemirror_mode": {
    "name": "ipython",
    "version": 3
   },
   "file_extension": ".py",
   "mimetype": "text/x-python",
   "name": "python",
   "nbconvert_exporter": "python",
   "pygments_lexer": "ipython3",
   "version": "3.6.7"
  }
 },
 "nbformat": 4,
 "nbformat_minor": 2
}
